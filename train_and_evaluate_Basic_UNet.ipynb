{
 "cells": [
  {
   "cell_type": "code",
   "execution_count": null,
   "id": "initial_id",
   "metadata": {
    "collapsed": true,
    "is_executing": true,
    "ExecuteTime": {
     "start_time": "2024-04-01T13:49:53.621441Z"
    }
   },
   "outputs": [],
   "source": [
    "from models import UNet\n",
    "from pathlib import Path\n",
    "from dataset_utils import SigSepDataset\n",
    "from torch.utils.data import DataLoader\n",
    "from training_utils import train_epoch\n",
    "from torch import nn\n",
    "from torch.optim import Adam\n",
    "import torch \n",
    "\n",
    "# Load train data\n",
    "train_set_path = Path('datasets/QPSK_20240330_005025')\n",
    "train_set = SigSepDataset(train_set_path)\n",
    "train_loader = DataLoader(train_set, 32, shuffle=True)\n",
    "\n",
    "# Load test data\n",
    "test_set_path = Path('datasets/eval_QPSK_20240401_073854')\n",
    "test_set = SigSepDataset(test_set_path)\n",
    "\n",
    "# Train basic UNet model\n",
    "device = torch.device(\"cuda:0\" if torch.cuda.is_available() else \"\")\n",
    "model = UNet()\n",
    "criterion = nn.MSELoss()\n",
    "optimizer = Adam(model.parameters())\n",
    "train_epoch(model, train_loader, criterion, optimizer, device)"
   ]
  },
  {
   "cell_type": "code",
   "outputs": [],
   "source": [],
   "metadata": {
    "collapsed": false
   },
   "id": "87dc6b254f2d9d84"
  }
 ],
 "metadata": {
  "kernelspec": {
   "display_name": "Python 3",
   "language": "python",
   "name": "python3"
  },
  "language_info": {
   "codemirror_mode": {
    "name": "ipython",
    "version": 2
   },
   "file_extension": ".py",
   "mimetype": "text/x-python",
   "name": "python",
   "nbconvert_exporter": "python",
   "pygments_lexer": "ipython2",
   "version": "2.7.6"
  }
 },
 "nbformat": 4,
 "nbformat_minor": 5
}
