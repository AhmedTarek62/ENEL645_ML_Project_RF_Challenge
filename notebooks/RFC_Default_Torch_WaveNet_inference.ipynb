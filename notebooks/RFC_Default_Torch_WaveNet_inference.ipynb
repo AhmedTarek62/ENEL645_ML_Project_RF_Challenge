{
 "cells": [
  {
   "cell_type": "code",
   "execution_count": 29,
   "metadata": {},
   "outputs": [
    {
     "name": "stdout",
     "output_type": "stream",
     "text": [
      "The autoreload extension is already loaded. To reload it, use:\n",
      "  %reload_ext autoreload\n"
     ]
    }
   ],
   "source": [
    "%load_ext autoreload\n",
    "%autoreload 2\n",
    "\n",
    "import os\n",
    "os.chdir(globals()['_dh'][0])\n",
    "os.chdir('..')\n",
    "# print(os.path.abspath(os.curdir))"
   ]
  },
  {
   "cell_type": "code",
   "execution_count": 30,
   "metadata": {},
   "outputs": [],
   "source": [
    "import torch\n",
    "from src.Default_Torch_WaveNet import Wave\n",
    "from omegaconf import OmegaConf\n",
    "from dataset_utils.SigSepDataset import SigSepDataset\n",
    "from dataset_utils import generate_competition_eval_mixture\n",
    "from torch.utils.data import DataLoader\n",
    "import numpy as np\n",
    "from torchsummary import summary\n",
    "\n",
    "import matplotlib.pyplot as plt\n",
    "from scipy.stats import binned_statistic"
   ]
  },
  {
   "cell_type": "code",
   "execution_count": 31,
   "metadata": {},
   "outputs": [
    {
     "name": "stdout",
     "output_type": "stream",
     "text": [
      "Using device:  cuda\n"
     ]
    }
   ],
   "source": [
    "device = torch.device(\"cuda\" if torch.cuda.is_available() else \"cpu\")\n",
    "print(\"Using device: \", device)"
   ]
  },
  {
   "cell_type": "code",
   "execution_count": 32,
   "metadata": {},
   "outputs": [],
   "source": [
    "# generate some test data\n",
    "soi_type = \"QPSK\"\n",
    "interference_type = \"CommSignal2\"\n",
    "\n",
    "batch_size = 8\n",
    "num_batches = 1000\n",
    "dataset_path = \"rf_datasets/train_test_set_unmixed/dataset/testset1_frame\"\n",
    "\n",
    "dataset_path = generate_competition_eval_mixture(soi_type, dataset_path)"
   ]
  },
  {
   "cell_type": "code",
   "execution_count": 33,
   "metadata": {},
   "outputs": [],
   "source": [
    "dataset = SigSepDataset(dataset_dir=dataset_path, dtype=\"real\")\n",
    "# dataset = SigSepDataset(\n",
    "#     dataset_dir=\"rf_datasets/test_set_mixed/datasets/eval_QPSK_20240401_123139\", dtype=\"real\")\n",
    "loader = DataLoader(dataset, batch_size=batch_size, shuffle=True)"
   ]
  },
  {
   "cell_type": "code",
   "execution_count": 34,
   "metadata": {},
   "outputs": [
    {
     "data": {
      "text/plain": [
       "(torch.Size([8, 2, 40960]),\n",
       " torch.Size([8, 2, 40960]),\n",
       " torch.Size([8, 5120]),\n",
       " torch.Size([8]),\n",
       " torch.Size([8]))"
      ]
     },
     "execution_count": 34,
     "metadata": {},
     "output_type": "execute_result"
    }
   ],
   "source": [
    "batch = next(iter(loader))\n",
    "soi_mix, soi_target, msg_bits, intrf_type, sinr_db = batch\n",
    "soi_mix.shape, soi_target.shape, msg_bits.shape, intrf_type.shape, sinr_db.shape"
   ]
  },
  {
   "cell_type": "code",
   "execution_count": 35,
   "metadata": {},
   "outputs": [
    {
     "name": "stdout",
     "output_type": "stream",
     "text": [
      "----------------------------------------------------------------\n",
      "        Layer (type)               Output Shape         Param #\n",
      "================================================================\n",
      "            Conv1d-1           [-1, 128, 40960]             384\n",
      "            Conv1d-2           [-1, 256, 40960]          98,560\n",
      "            Conv1d-3           [-1, 256, 40960]          33,024\n",
      "     ResidualBlock-4  [[-1, 128, 40960], [-1, 128, 40960]]               0\n",
      "            Conv1d-5           [-1, 256, 40960]          98,560\n",
      "            Conv1d-6           [-1, 256, 40960]          33,024\n",
      "     ResidualBlock-7  [[-1, 128, 40960], [-1, 128, 40960]]               0\n",
      "            Conv1d-8           [-1, 256, 40960]          98,560\n",
      "            Conv1d-9           [-1, 256, 40960]          33,024\n",
      "    ResidualBlock-10  [[-1, 128, 40960], [-1, 128, 40960]]               0\n",
      "           Conv1d-11           [-1, 256, 40960]          98,560\n",
      "           Conv1d-12           [-1, 256, 40960]          33,024\n",
      "    ResidualBlock-13  [[-1, 128, 40960], [-1, 128, 40960]]               0\n",
      "           Conv1d-14           [-1, 256, 40960]          98,560\n",
      "           Conv1d-15           [-1, 256, 40960]          33,024\n",
      "    ResidualBlock-16  [[-1, 128, 40960], [-1, 128, 40960]]               0\n",
      "           Conv1d-17           [-1, 256, 40960]          98,560\n",
      "           Conv1d-18           [-1, 256, 40960]          33,024\n",
      "    ResidualBlock-19  [[-1, 128, 40960], [-1, 128, 40960]]               0\n",
      "           Conv1d-20           [-1, 256, 40960]          98,560\n",
      "           Conv1d-21           [-1, 256, 40960]          33,024\n",
      "    ResidualBlock-22  [[-1, 128, 40960], [-1, 128, 40960]]               0\n",
      "           Conv1d-23           [-1, 256, 40960]          98,560\n",
      "           Conv1d-24           [-1, 256, 40960]          33,024\n",
      "    ResidualBlock-25  [[-1, 128, 40960], [-1, 128, 40960]]               0\n",
      "           Conv1d-26           [-1, 256, 40960]          98,560\n",
      "           Conv1d-27           [-1, 256, 40960]          33,024\n",
      "    ResidualBlock-28  [[-1, 128, 40960], [-1, 128, 40960]]               0\n",
      "           Conv1d-29           [-1, 256, 40960]          98,560\n",
      "           Conv1d-30           [-1, 256, 40960]          33,024\n",
      "    ResidualBlock-31  [[-1, 128, 40960], [-1, 128, 40960]]               0\n",
      "           Conv1d-32           [-1, 256, 40960]          98,560\n",
      "           Conv1d-33           [-1, 256, 40960]          33,024\n",
      "    ResidualBlock-34  [[-1, 128, 40960], [-1, 128, 40960]]               0\n",
      "           Conv1d-35           [-1, 256, 40960]          98,560\n",
      "           Conv1d-36           [-1, 256, 40960]          33,024\n",
      "    ResidualBlock-37  [[-1, 128, 40960], [-1, 128, 40960]]               0\n",
      "           Conv1d-38           [-1, 256, 40960]          98,560\n",
      "           Conv1d-39           [-1, 256, 40960]          33,024\n",
      "    ResidualBlock-40  [[-1, 128, 40960], [-1, 128, 40960]]               0\n",
      "           Conv1d-41           [-1, 256, 40960]          98,560\n",
      "           Conv1d-42           [-1, 256, 40960]          33,024\n",
      "    ResidualBlock-43  [[-1, 128, 40960], [-1, 128, 40960]]               0\n",
      "           Conv1d-44           [-1, 256, 40960]          98,560\n",
      "           Conv1d-45           [-1, 256, 40960]          33,024\n",
      "    ResidualBlock-46  [[-1, 128, 40960], [-1, 128, 40960]]               0\n",
      "           Conv1d-47           [-1, 256, 40960]          98,560\n",
      "           Conv1d-48           [-1, 256, 40960]          33,024\n",
      "    ResidualBlock-49  [[-1, 128, 40960], [-1, 128, 40960]]               0\n",
      "           Conv1d-50           [-1, 256, 40960]          98,560\n",
      "           Conv1d-51           [-1, 256, 40960]          33,024\n",
      "    ResidualBlock-52  [[-1, 128, 40960], [-1, 128, 40960]]               0\n",
      "           Conv1d-53           [-1, 256, 40960]          98,560\n",
      "           Conv1d-54           [-1, 256, 40960]          33,024\n",
      "    ResidualBlock-55  [[-1, 128, 40960], [-1, 128, 40960]]               0\n",
      "           Conv1d-56           [-1, 256, 40960]          98,560\n",
      "           Conv1d-57           [-1, 256, 40960]          33,024\n",
      "    ResidualBlock-58  [[-1, 128, 40960], [-1, 128, 40960]]               0\n",
      "           Conv1d-59           [-1, 256, 40960]          98,560\n",
      "           Conv1d-60           [-1, 256, 40960]          33,024\n",
      "    ResidualBlock-61  [[-1, 128, 40960], [-1, 128, 40960]]               0\n",
      "           Conv1d-62           [-1, 256, 40960]          98,560\n",
      "           Conv1d-63           [-1, 256, 40960]          33,024\n",
      "    ResidualBlock-64  [[-1, 128, 40960], [-1, 128, 40960]]               0\n",
      "           Conv1d-65           [-1, 256, 40960]          98,560\n",
      "           Conv1d-66           [-1, 256, 40960]          33,024\n",
      "    ResidualBlock-67  [[-1, 128, 40960], [-1, 128, 40960]]               0\n",
      "           Conv1d-68           [-1, 256, 40960]          98,560\n",
      "           Conv1d-69           [-1, 256, 40960]          33,024\n",
      "    ResidualBlock-70  [[-1, 128, 40960], [-1, 128, 40960]]               0\n",
      "           Conv1d-71           [-1, 256, 40960]          98,560\n",
      "           Conv1d-72           [-1, 256, 40960]          33,024\n",
      "    ResidualBlock-73  [[-1, 128, 40960], [-1, 128, 40960]]               0\n",
      "           Conv1d-74           [-1, 256, 40960]          98,560\n",
      "           Conv1d-75           [-1, 256, 40960]          33,024\n",
      "    ResidualBlock-76  [[-1, 128, 40960], [-1, 128, 40960]]               0\n",
      "           Conv1d-77           [-1, 256, 40960]          98,560\n",
      "           Conv1d-78           [-1, 256, 40960]          33,024\n",
      "    ResidualBlock-79  [[-1, 128, 40960], [-1, 128, 40960]]               0\n",
      "           Conv1d-80           [-1, 256, 40960]          98,560\n",
      "           Conv1d-81           [-1, 256, 40960]          33,024\n",
      "    ResidualBlock-82  [[-1, 128, 40960], [-1, 128, 40960]]               0\n",
      "           Conv1d-83           [-1, 256, 40960]          98,560\n",
      "           Conv1d-84           [-1, 256, 40960]          33,024\n",
      "    ResidualBlock-85  [[-1, 128, 40960], [-1, 128, 40960]]               0\n",
      "           Conv1d-86           [-1, 256, 40960]          98,560\n",
      "           Conv1d-87           [-1, 256, 40960]          33,024\n",
      "    ResidualBlock-88  [[-1, 128, 40960], [-1, 128, 40960]]               0\n",
      "           Conv1d-89           [-1, 256, 40960]          98,560\n",
      "           Conv1d-90           [-1, 256, 40960]          33,024\n",
      "    ResidualBlock-91  [[-1, 128, 40960], [-1, 128, 40960]]               0\n",
      "           Conv1d-92           [-1, 128, 40960]          16,512\n",
      "           Conv1d-93             [-1, 2, 40960]             258\n",
      "================================================================\n",
      "Total params: 3,964,674\n",
      "Trainable params: 3,964,674\n",
      "Non-trainable params: 0\n",
      "----------------------------------------------------------------\n",
      "Input size (MB): 0.31\n",
      "Forward/backward pass size (MB): 6291451119.38\n",
      "Params size (MB): 15.12\n",
      "Estimated Total Size (MB): 6291451134.81\n",
      "----------------------------------------------------------------\n"
     ]
    }
   ],
   "source": [
    "cfg = OmegaConf.load(\"src/configs/wavenet.yaml\")\n",
    "model = Wave(cfg.model).to(device)\n",
    "summary(model, input_size=soi_mix.shape[1:])"
   ]
  },
  {
   "cell_type": "code",
   "execution_count": 36,
   "metadata": {},
   "outputs": [
    {
     "name": "stdout",
     "output_type": "stream",
     "text": [
      "dict_keys(['step', 'model', 'optimizer', 'cfg', 'scaler'])\n"
     ]
    },
    {
     "data": {
      "text/plain": [
       "<All keys matched successfully>"
      ]
     },
     "execution_count": 36,
     "metadata": {},
     "output_type": "execute_result"
    }
   ],
   "source": [
    "# load weights\n",
    "loaded_model = torch.load(\n",
    "    \"torchmodels/dataset_qpsk_commsignal2_mixture_wavenet/weights-206000.pt\")\n",
    "# loaded_model = torch.load(\"torchmodels/dataset_qpsk_commsignal2_mixture_wavenet/weights.pt\")\n",
    "print(loaded_model.keys())\n",
    "model.load_state_dict(loaded_model[\"model\"])"
   ]
  },
  {
   "cell_type": "code",
   "execution_count": 37,
   "metadata": {},
   "outputs": [
    {
     "data": {
      "text/plain": [
       "((1100, 2, 40960), (1100,), (1100, 5120), (1100, 2, 40960), (1100, 2, 40960))"
      ]
     },
     "execution_count": 37,
     "metadata": {},
     "output_type": "execute_result"
    }
   ],
   "source": [
    "intrf_files = ['CommSignal2', 'CommSignal3', 'CommSignal5G1', 'EMISignal1']\n",
    "model.eval()\n",
    "\n",
    "sinr_all = []\n",
    "soi_target = []\n",
    "msg_bits_all = []\n",
    "soi_no_mitigation = []\n",
    "soi_est = []\n",
    "\n",
    "for i, batch in enumerate(loader):\n",
    "    # if i == 3:\n",
    "    #     break\n",
    "    sample_soi_mix, sample_soi_target, msg_bits, intrf_type, sinr_db = batch\n",
    "    idx = intrf_files.index(interference_type)\n",
    "    sample_soi_mix, sample_soi_target = sample_soi_mix[intrf_type == idx].to(\n",
    "        device), sample_soi_target[intrf_type == idx].to(device)\n",
    "    sinr_db = sinr_db[intrf_type == idx]\n",
    "    msg_bits = msg_bits[intrf_type == idx]\n",
    "\n",
    "    sample_soi_hat = model(sample_soi_mix)\n",
    "\n",
    "    soi_target.extend(sample_soi_target.cpu().detach().numpy())\n",
    "    sinr_all.extend(sinr_db.numpy())\n",
    "    msg_bits_all.extend(msg_bits.numpy())\n",
    "    soi_no_mitigation.extend(sample_soi_mix.cpu().detach().numpy())\n",
    "    soi_est.extend(sample_soi_hat.cpu().detach().numpy())\n",
    "\n",
    "soi_target = np.array(soi_target)\n",
    "sinr_all = np.array(sinr_all)\n",
    "msg_bits_all = np.array(msg_bits_all)\n",
    "soi_no_mitigation = np.array(soi_no_mitigation)\n",
    "soi_est = np.array(soi_est)\n",
    "soi_target.shape, sinr_all.shape, msg_bits_all.shape, soi_no_mitigation.shape, soi_est.shape"
   ]
  },
  {
   "cell_type": "code",
   "execution_count": 38,
   "metadata": {},
   "outputs": [],
   "source": [
    "from comm_utils import qpsk_helper, ofdm_helper"
   ]
  },
  {
   "cell_type": "code",
   "execution_count": 39,
   "metadata": {},
   "outputs": [
    {
     "name": "stdout",
     "output_type": "stream",
     "text": [
      "(1100, 40960) (1100, 40960) (1100, 40960)\n"
     ]
    }
   ],
   "source": [
    "# combine IQ parts\n",
    "soi_no_mitigation = soi_no_mitigation[:,\n",
    "                                      0, :] + 1j * soi_no_mitigation[:, 1, :]\n",
    "soi_target = soi_target[:, 0, :] + 1j * soi_target[:, 1, :]\n",
    "soi_est = soi_est[:, 0, :] + 1j * soi_est[:, 1, :]\n",
    "print(soi_target.shape, soi_no_mitigation.shape, soi_est.shape)\n",
    "bit_no_mitigation, _ = qpsk_helper.demodulate_qpsk_signal(soi_no_mitigation)\n",
    "bit_est, _ = qpsk_helper.demodulate_qpsk_signal(soi_est)"
   ]
  },
  {
   "cell_type": "code",
   "execution_count": 40,
   "metadata": {},
   "outputs": [],
   "source": [
    "def get_db(p): return 10*np.log10(p)\n",
    "def get_pow(s): return np.mean(np.abs(s)**2, axis=-1)\n",
    "def get_sinr(s, i): return get_pow(s)/get_pow(i)\n",
    "\n",
    "\n",
    "def get_sinr_db(s, i): return get_db(get_sinr(s, i))"
   ]
  },
  {
   "cell_type": "code",
   "execution_count": 41,
   "metadata": {},
   "outputs": [
    {
     "name": "stderr",
     "output_type": "stream",
     "text": [
      "/tmp/ipykernel_51479/3807040701.py:1: RuntimeWarning: divide by zero encountered in log10\n",
      "  def get_db(p): return 10*np.log10(p)\n"
     ]
    }
   ],
   "source": [
    "# evaluate the mse\n",
    "mse_no_mitigation = get_db(\n",
    "    np.mean(np.abs(msg_bits_all - bit_no_mitigation)**2, axis=-1))\n",
    "mse_wavenet = get_db(np.mean(np.abs(msg_bits_all - bit_est)**2, axis=-1))"
   ]
  },
  {
   "cell_type": "code",
   "execution_count": 42,
   "metadata": {},
   "outputs": [
    {
     "name": "stdout",
     "output_type": "stream",
     "text": [
      "Examples   BER (No Mitigation)  BER (WaveNet)        SINR      \n",
      "2          0.0742187500         0.0000000000         -6.00     \n",
      "4          0.1648437530         0.0000000000         -12.00    \n",
      "6          0.1662109345         0.0000000000         -12.00    \n",
      "7          0.2169921845         0.0001953125         -15.00    \n",
      "10         0.0662109405         0.0000000000         -6.00     \n",
      "11         0.1603515595         0.0000000000         -12.00    \n",
      "12         0.1072265655         0.0000000000         -9.00     \n",
      "13         0.2808593810         0.0052734376         -18.00    \n",
      "15         0.1076171845         0.0000000000         -9.00     \n",
      "16         0.1107421890         0.0000000000         -9.00     \n"
     ]
    }
   ],
   "source": [
    "# evaluate the bit error rate\n",
    "ber_no_mitigation = np.mean(\n",
    "    bit_no_mitigation != msg_bits_all, axis=-1).astype(np.float32)\n",
    "ber_wavenet = np.mean(\n",
    "    bit_est != msg_bits_all, axis=-1).astype(np.float32)\n",
    "print(f\"{'Examples':<10} {'BER (No Mitigation)':<20} {'BER (WaveNet)':<20} {'SINR':<10}\")\n",
    "count = 0\n",
    "for i, (ber1, ber2) in enumerate(zip(ber_no_mitigation, ber_wavenet)):\n",
    "    if ber1 <= 1e-2 or ber2 <= 1e-2:  # only print if the BER is significant\n",
    "        print(\n",
    "            f\"{i + 1:<10} {ber1:<20.10f} {ber2:<20.10f} {sinr_all[i]:<10.2f}\")\n",
    "        count += 1\n",
    "        if count == 10:\n",
    "            break"
   ]
  },
  {
   "cell_type": "code",
   "execution_count": 43,
   "metadata": {},
   "outputs": [],
   "source": [
    "def get_smoothed(sinr, ber, npoints=50):\n",
    "    bins = np.linspace(sinr.min(), sinr.max(), npoints)\n",
    "    bin_means, bin_edges, _ = binned_statistic(\n",
    "        sinr, ber, statistic='mean', bins=bins)\n",
    "\n",
    "    # To plot the line at the center of the bins, calculate the bin centers\n",
    "    bin_centers = (bin_edges[:-1] + bin_edges[1:]) / 2\n",
    "\n",
    "    return bin_centers, bin_means"
   ]
  },
  {
   "cell_type": "code",
   "execution_count": 51,
   "metadata": {},
   "outputs": [
    {
     "data": {
      "text/plain": [
       "Text(0, 0.5, 'BER')"
      ]
     },
     "execution_count": 51,
     "metadata": {},
     "output_type": "execute_result"
    },
    {
     "data": {
      "image/png": "[encoded data removed]",
      "text/plain": [
       "<Figure size 500x300 with 1 Axes>"
      ]
     },
     "metadata": {},
     "output_type": "display_data"
    },
    {
     "data": {
      "image/png": "[encoded data removed]",
      "text/plain": [
       "<Figure size 500x300 with 1 Axes>"
      ]
     },
     "metadata": {},
     "output_type": "display_data"
    }
   ],
   "source": [
    "plt.figure(figsize=(5, 3))\n",
    "mse_no_mitigation = dict(zip(sinr_all, mse_no_mitigation))\n",
    "mse_wavenet = dict(zip(sinr_all, mse_wavenet))\n",
    "plt.plot(*zip(*sorted(mse_no_mitigation.items())),\n",
    "         \"x--\", label=\"Default_NoMitigation\")\n",
    "plt.plot(*zip(*sorted(mse_wavenet.items())),\n",
    "         \"x--\", label=\"Default_Torch_WaveNet\")\n",
    "plt.grid()\n",
    "plt.legend()\n",
    "plt.title(f\"MSE - {soi_type} + {interference_type}\")\n",
    "plt.xlabel(\"SINR [dB]\")\n",
    "plt.ylabel(\"MSE\")\n",
    "\n",
    "plt.figure(figsize=(5, 3))\n",
    "ber_no_mitigation = dict(zip(sinr_all, ber_no_mitigation))\n",
    "ber_wavenet = dict(zip(sinr_all, ber_wavenet))\n",
    "plt.semilogy(*zip(*sorted(ber_no_mitigation.items())),\n",
    "             \"x--\", label=\"Default_NoMitigation\")\n",
    "plt.semilogy(*zip(*sorted(ber_wavenet.items())),\n",
    "             \"x--\", label=\"Default_Torch_WaveNet\")\n",
    "\n",
    "plt.grid()\n",
    "plt.legend()\n",
    "plt.title(f\"BER - {soi_type} + {interference_type}\")\n",
    "plt.xlabel(\"SINR [dB]\")\n",
    "plt.ylabel(\"BER\")"
   ]
  }
 ],
 "metadata": {
  "kernelspec": {
   "display_name": "rftorch",
   "language": "python",
   "name": "python3"
  },
  "language_info": {
   "codemirror_mode": {
    "name": "ipython",
    "version": 3
   },
   "file_extension": ".py",
   "mimetype": "text/x-python",
   "name": "python",
   "nbconvert_exporter": "python",
   "pygments_lexer": "ipython3",
   "version": "3.11.8"
  },
  "orig_nbformat": 4
 },
 "nbformat": 4,
 "nbformat_minor": 2
}
