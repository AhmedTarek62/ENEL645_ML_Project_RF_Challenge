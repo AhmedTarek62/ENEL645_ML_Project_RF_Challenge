{
 "cells": [
  {
   "cell_type": "code",
   "execution_count": null,
   "id": "0761d739",
   "metadata": {},
   "outputs": [],
   "source": [
    "%load_ext autoreload\n",
    "%autoreload 2\n",
    "\n",
    "import os\n",
    "os.chdir(globals()['_dh'][0])\n",
    "os.chdir('..')\n",
    "# print(os.path.abspath(os.curdir))"
   ]
  },
  {
   "cell_type": "code",
   "execution_count": null,
   "id": "f5ceb3843533f05c",
   "metadata": {
    "ExecuteTime": {
     "start_time": "2024-04-01T15:38:13.193575Z"
    },
    "collapsed": false,
    "is_executing": true
   },
   "outputs": [
    {
     "name": "stderr",
     "output_type": "stream",
     "text": [
      "Training:   0%|          | 0/8 [00:00<?, ?batch/s]"
     ]
    }
   ],
   "source": [
    "from models import UNet\n",
    "from pathlib import Path\n",
    "from dataset_utils import SigSepDataset\n",
    "from torch.utils.data import DataLoader\n",
    "from training_utils import train_epoch\n",
    "from eval_utils import evaluate_competition\n",
    "from torch import nn\n",
    "from torch.optim import Adam\n",
    "import torch\n",
    "\n",
    "# Load train data\n",
    "train_set_path = Path('datasets/QPSK_20240401_080901')\n",
    "train_set = SigSepDataset(train_set_path, dtype='real')\n",
    "train_loader = DataLoader(train_set, 16, shuffle=True)\n",
    "\n",
    "# Load test data\n",
    "test_set_path = Path('datasets/eval_QPSK_20240401_073854')\n",
    "test_set = SigSepDataset(test_set_path)\n",
    "# batch size must be 1 for test_loader\n",
    "test_loader = DataLoader(test_set, 1, shuffle=True)\n",
    "\n",
    "# Train basic UNet model\n",
    "device = \"cpu\"\n",
    "model = UNet()\n",
    "model = model.to(device)\n",
    "criterion = nn.MSELoss()\n",
    "optimizer = Adam(model.parameters())\n",
    "train_epoch(model, train_loader, criterion, optimizer, device)\n",
    "# evaluate_competition(model, test_loader, 'QPSK', device)"
   ]
  },
  {
   "cell_type": "code",
   "execution_count": null,
   "id": "abca0866f64f38b5",
   "metadata": {
    "collapsed": false
   },
   "outputs": [],
   "source": []
  }
 ],
 "metadata": {
  "kernelspec": {
   "display_name": "Python 3",
   "language": "python",
   "name": "python3"
  },
  "language_info": {
   "codemirror_mode": {
    "name": "ipython",
    "version": 2
   },
   "file_extension": ".py",
   "mimetype": "text/x-python",
   "name": "python",
   "nbconvert_exporter": "python",
   "pygments_lexer": "ipython2",
   "version": "2.7.6"
  }
 },
 "nbformat": 4,
 "nbformat_minor": 5
}
